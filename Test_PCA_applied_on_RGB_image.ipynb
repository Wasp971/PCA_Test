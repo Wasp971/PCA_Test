{
 "cells": [
  {
   "cell_type": "markdown",
   "id": "premium-allen",
   "metadata": {},
   "source": [
    "# Setup"
   ]
  },
  {
   "cell_type": "code",
   "execution_count": null,
   "id": "registered-suggestion",
   "metadata": {},
   "outputs": [],
   "source": [
    "pip install -r requirements.txt"
   ]
  },
  {
   "cell_type": "code",
   "execution_count": null,
   "id": "treated-wagner",
   "metadata": {},
   "outputs": [],
   "source": [
    "from PIL import Image\n",
    "from tqdm import tqdm\n",
    "from sklearn.decomposition import PCA\n",
    "from matplotlib.pyplot import imshow, figure\n",
    "from tifffile import imsave\n",
    "import numpy as np\n",
    "import os"
   ]
  },
  {
   "cell_type": "code",
   "execution_count": null,
   "id": "final-feature",
   "metadata": {},
   "outputs": [],
   "source": [
    "input_path = './input'\n",
    "output_path = './output'"
   ]
  },
  {
   "cell_type": "code",
   "execution_count": null,
   "id": "resident-biotechnology",
   "metadata": {},
   "outputs": [],
   "source": [
    "input_files = [filename for filename in os.listdir(input_path)]\n",
    "print(f'input_files ({len(input_files)}): {input_files}')"
   ]
  },
  {
   "cell_type": "markdown",
   "id": "disturbed-category",
   "metadata": {},
   "source": [
    "# Files parsing\n",
    "For each file:\n",
    "\n",
    "1. read file\n",
    "1. get image size\n",
    "1. \"parse\" the image with PCA\n",
    "1. save the output to a .tif file"
   ]
  },
  {
   "cell_type": "code",
   "execution_count": null,
   "id": "stable-sally",
   "metadata": {},
   "outputs": [],
   "source": [
    "new_files = []\n",
    "images = {key: {} for key in input_files}\n",
    "\n",
    "for image_file in tqdm(input_files, desc='Parsing files'):\n",
    "    # Read image\n",
    "    image_path = os.path.join(input_path, image_file)\n",
    "    image = Image.open(image_path)\n",
    "    image_sequence = image.getdata()\n",
    "    image_array = np.array(image_sequence)\n",
    "    h, w, _ = np.asarray(image).shape\n",
    "    images[image_file]['input'] = np.asarray(image)\n",
    "    images[image_file]['size'] = (h, w)\n",
    "    \n",
    "    # Use pca transformation to parse image\n",
    "    pca = PCA(n_components=3)\n",
    "    pca.fit(image_array)\n",
    "    output = pca.transform(image_array)\n",
    "    images[image_file]['pca'] = pca\n",
    "    \n",
    "    # Save output as tif\n",
    "    new_filename = f'{image_file.split(\".\")[0]}.tif'\n",
    "    imsave(os.path.join(output_path, new_filename), output.reshape(h, w, 3))\n",
    "    new_files.append(new_filename)\n",
    "    images[image_file]['output'] = output.reshape(h, w, 3)\n",
    "print(f'Parsed files: {new_files}')"
   ]
  }
 ],
 "metadata": {
  "kernelspec": {
   "display_name": "Python 3",
   "language": "python",
   "name": "python3"
  },
  "language_info": {
   "codemirror_mode": {
    "name": "ipython",
    "version": 3
   },
   "file_extension": ".py",
   "mimetype": "text/x-python",
   "name": "python",
   "nbconvert_exporter": "python",
   "pygments_lexer": "ipython3",
   "version": "3.8.6"
  }
 },
 "nbformat": 4,
 "nbformat_minor": 5
}
